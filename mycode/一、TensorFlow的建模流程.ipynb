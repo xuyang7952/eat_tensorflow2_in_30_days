{
 "cells": [
  {
   "cell_type": "markdown",
   "metadata": {},
   "source": [
    "# 一、TensorFlow的建模流程"
   ]
  },
  {
   "cell_type": "markdown",
   "metadata": {},
   "source": [
    "尽管TensorFlow设计上足够灵活，可以用于进行各种复杂的数值计算。\n",
    "\n",
    "但通常人们使用TensorFlow来实现机器学习模型，尤其常用于实现神经网络模型。\n",
    "\n",
    "从原理上说可以使用张量构建计算图来定义神经网络，并通过自动微分机制训练模型。\n",
    "\n",
    "但为简洁起见，一般推荐使用TensorFlow的高层次keras接口来实现神经网络网模型。"
   ]
  },
  {
   "cell_type": "markdown",
   "metadata": {},
   "source": [
    "使用TensorFlow实现神经网络模型的一般流程包括：\n",
    "\n",
    "1，准备数据\n",
    "\n",
    "2，定义模型\n",
    "\n",
    "3，训练模型\n",
    "\n",
    "4，评估模型\n",
    "\n",
    "5，使用模型\n",
    "\n",
    "6，保存模型。\n",
    "\n",
    "对新手来说，其中最困难的部分实际上是准备数据过程。\n",
    "\n",
    "我们在实践中通常会遇到的数据类型包括结构化数据，图片数据，文本数据，时间序列数据。\n",
    "\n",
    "我们将分别以titanic生存预测问题，cifar2图片分类问题，imdb电影评论分类问题，国内新冠疫情结束时间预测问题为例，演示应用tensorflow对这四类数据的建模方法。"
   ]
  },
  {
   "cell_type": "code",
   "execution_count": null,
   "metadata": {},
   "outputs": [],
   "source": []
  }
 ],
 "metadata": {
  "kernelspec": {
   "display_name": "Python 3",
   "language": "python",
   "name": "python3"
  },
  "language_info": {
   "codemirror_mode": {
    "name": "ipython",
    "version": 3
   },
   "file_extension": ".py",
   "mimetype": "text/x-python",
   "name": "python",
   "nbconvert_exporter": "python",
   "pygments_lexer": "ipython3",
   "version": "3.7.4"
  }
 },
 "nbformat": 4,
 "nbformat_minor": 2
}

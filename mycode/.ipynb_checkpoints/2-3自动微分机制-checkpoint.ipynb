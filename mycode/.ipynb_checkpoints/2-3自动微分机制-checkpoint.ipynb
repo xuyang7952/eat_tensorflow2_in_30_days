{
 "cells": [
  {
   "cell_type": "markdown",
   "metadata": {},
   "source": [
    "# 2-3自动微分机制"
   ]
  },
  {
   "cell_type": "markdown",
   "metadata": {},
   "source": [
    "神经网络通常依赖反向传播求梯度来更新网络参数，求梯度过程通常是一件非常复杂而容易出错的事情。\n",
    "\n",
    "而深度学习框架可以帮助我们自动地完成这种求梯度运算。\n",
    "\n",
    "Tensorflow一般使用梯度磁带tf.GradientTape来记录正向运算过程，然后反播磁带自动得到梯度值。\n",
    "\n",
    "这种利用tf.GradientTape求微分的方法叫做Tensorflow的自动微分机制。"
   ]
  },
  {
   "cell_type": "markdown",
   "metadata": {},
   "source": [
    "## 一、利用梯度磁带求导数"
   ]
  },
  {
   "cell_type": "code",
   "execution_count": 1,
   "metadata": {},
   "outputs": [
    {
     "name": "stdout",
     "output_type": "stream",
     "text": [
      "tf.Tensor(-2.0, shape=(), dtype=float32)\n"
     ]
    }
   ],
   "source": [
    "import tensorflow as tf\n",
    "import numpy as np \n",
    "\n",
    "# f(x) = a*x**2 + b*x + c的导数\n",
    "\n",
    "x = tf.Variable(0.0,name = \"x\",dtype = tf.float32)\n",
    "a = tf.constant(1.0)\n",
    "b = tf.constant(-2.0)\n",
    "c = tf.constant(1.0)\n",
    "\n",
    "with tf.GradientTape() as tape:\n",
    "    y = a*tf.pow(x,2) + b*x + c\n",
    "    \n",
    "dy_dx = tape.gradient(y,x)\n",
    "print(dy_dx) # 这里默认x= 0"
   ]
  },
  {
   "cell_type": "code",
   "execution_count": 5,
   "metadata": {},
   "outputs": [
    {
     "name": "stdout",
     "output_type": "stream",
     "text": [
      "tf.Tensor(0.0, shape=(), dtype=float32)\n",
      "tf.Tensor(0.0, shape=(), dtype=float32)\n",
      "tf.Tensor(1.0, shape=(), dtype=float32)\n",
      "tf.Tensor(-2.0, shape=(), dtype=float32)\n"
     ]
    }
   ],
   "source": [
    "# 对常量张量也可以求导，需要增加watch\n",
    "\n",
    "with tf.GradientTape() as tape:\n",
    "    tape.watch([a,b,c])\n",
    "    y = a*tf.pow(x,2) + b*x + c\n",
    "    \n",
    "dy_dx,dy_da,dy_db,dy_dc = tape.gradient(y,[x,a,b,c])\n",
    "print(dy_da)\n",
    "print(dy_db) #\n",
    "print(dy_dc)\n",
    "print(dy_dx)"
   ]
  },
  {
   "cell_type": "code",
   "execution_count": 3,
   "metadata": {},
   "outputs": [
    {
     "name": "stdout",
     "output_type": "stream",
     "text": [
      "tf.Tensor(2.0, shape=(), dtype=float32)\n"
     ]
    }
   ],
   "source": [
    "# 可以求二阶导数\n",
    "with tf.GradientTape() as tape2:\n",
    "    with tf.GradientTape() as tape1:   \n",
    "        y = a*tf.pow(x,2) + b*x + c\n",
    "    dy_dx = tape1.gradient(y,x)   \n",
    "dy2_dx2 = tape2.gradient(dy_dx,x)\n",
    "\n",
    "print(dy2_dx2)"
   ]
  },
  {
   "cell_type": "code",
   "execution_count": 4,
   "metadata": {},
   "outputs": [
    {
     "name": "stdout",
     "output_type": "stream",
     "text": [
      "(-2, 1)\n",
      "(0, 0)\n"
     ]
    }
   ],
   "source": [
    "# 可以在autograph中使用\n",
    "\n",
    "@tf.function\n",
    "def f(x):   \n",
    "    a = tf.constant(1.0)\n",
    "    b = tf.constant(-2.0)\n",
    "    c = tf.constant(1.0)\n",
    "    \n",
    "    # 自变量转换成tf.float32\n",
    "    x = tf.cast(x,tf.float32)\n",
    "    with tf.GradientTape() as tape:\n",
    "        tape.watch(x)\n",
    "        y = a*tf.pow(x,2)+b*x+c\n",
    "    dy_dx = tape.gradient(y,x) \n",
    "    \n",
    "    return((dy_dx,y))\n",
    "\n",
    "tf.print(f(tf.constant(0.0)))\n",
    "tf.print(f(tf.constant(1.0)))"
   ]
  },
  {
   "cell_type": "markdown",
   "metadata": {},
   "source": [
    "## 二、利用梯度磁带和优化器求最小值"
   ]
  },
  {
   "cell_type": "code",
   "execution_count": 13,
   "metadata": {},
   "outputs": [
    {
     "name": "stdout",
     "output_type": "stream",
     "text": [
      "0 ---------- -16.0 \t 1.0 \t 0.0\n",
      "1 ---------- -12.8 \t -22.04 \t 1.6\n",
      "2 ---------- -10.24 \t -36.785603 \t 2.88\n",
      "3 ---------- -8.191999 \t -46.222786 \t 3.9040003\n",
      "4 ---------- -6.5535994 \t -52.262585 \t 4.7232003\n",
      "5 ---------- -5.24288 \t -56.12805 \t 5.37856\n",
      "6 ---------- -4.1943035 \t -58.601955 \t 5.9028482\n",
      "7 ---------- -3.355443 \t -60.18525 \t 6.3222785\n",
      "8 ---------- -2.6843548 \t -61.19856 \t 6.6578226\n",
      "9 ---------- -2.1474838 \t -61.847076 \t 6.926258\n",
      "10 ---------- -1.7179871 \t -62.26213 \t 7.1410065\n",
      "11 ---------- -1.3743896 \t -62.527763 \t 7.312805\n",
      "12 ---------- -1.0995121 \t -62.69777 \t 7.450244\n",
      "13 ---------- -0.87961006 \t -62.806572 \t 7.560195\n",
      "14 ---------- -0.70368767 \t -62.876205 \t 7.648156\n",
      "15 ---------- -0.56295013 \t -62.920773 \t 7.718525\n",
      "16 ---------- -0.4503603 \t -62.949295 \t 7.77482\n",
      "17 ---------- -0.36028862 \t -62.96755 \t 7.8198557\n",
      "18 ---------- -0.2882309 \t -62.97923 \t 7.8558846\n",
      "19 ---------- -0.2305851 \t -62.986706 \t 7.8847075\n",
      "20 ---------- -0.18446827 \t -62.991493 \t 7.907766\n",
      "21 ---------- -0.14757442 \t -62.994556 \t 7.926213\n",
      "22 ---------- -0.11805916 \t -62.996517 \t 7.9409704\n",
      "23 ---------- -0.094447136 \t -62.99777 \t 7.9527764\n",
      "24 ---------- -0.07555771 \t -62.998573 \t 7.962221\n",
      "25 ---------- -0.060445786 \t -62.99909 \t 7.969777\n",
      "26 ---------- -0.04835701 \t -62.999416 \t 7.9758215\n",
      "27 ---------- -0.0386858 \t -62.999626 \t 7.980657\n",
      "28 ---------- -0.030948639 \t -62.99976 \t 7.9845257\n",
      "29 ---------- -0.024759293 \t -62.999847 \t 7.9876204\n",
      "30 ---------- -0.019807816 \t -62.9999 \t 7.990096\n",
      "31 ---------- -0.015846252 \t -62.99994 \t 7.992077\n",
      "32 ---------- -0.012677193 \t -62.999958 \t 7.9936614\n",
      "33 ---------- -0.010141373 \t -62.999973 \t 7.9949293\n",
      "34 ---------- -0.008112907 \t -62.999985 \t 7.9959435\n",
      "35 ---------- -0.0064907074 \t -62.99999 \t 7.9967546\n",
      "36 ---------- -0.0051927567 \t -62.999992 \t 7.9974036\n",
      "37 ---------- -0.0041542053 \t -62.999996 \t 7.997923\n",
      "38 ---------- -0.003323555 \t -62.999996 \t 7.998338\n",
      "39 ---------- -0.002658844 \t -63.0 \t 7.9986706\n",
      "40 ---------- -0.0021266937 \t -63.0 \t 7.9989367\n",
      "41 ---------- -0.001701355 \t -63.0 \t 7.9991493\n",
      "42 ---------- -0.0013608932 \t -63.0 \t 7.9993196\n",
      "43 ---------- -0.0010890961 \t -63.0 \t 7.9994555\n",
      "44 ---------- -0.0008716583 \t -63.0 \t 7.999564\n",
      "45 ---------- -0.0006971359 \t -63.0 \t 7.9996514\n",
      "46 ---------- -0.0005578995 \t -63.0 \t 7.999721\n",
      "47 ---------- -0.00044631958 \t -63.0 \t 7.999777\n",
      "48 ---------- -0.0003566742 \t -63.0 \t 7.9998217\n",
      "49 ---------- -0.00028514862 \t -63.0 \t 7.9998574\n",
      "50 ---------- -0.00022792816 \t -63.0 \t 7.999886\n",
      "51 ---------- -0.0001821518 \t -63.0 \t 7.999909\n",
      "52 ---------- -0.00014591217 \t -63.0 \t 7.999927\n",
      "53 ---------- -0.00011634827 \t -63.0 \t 7.999942\n",
      "54 ---------- -9.346008e-05 \t -63.0 \t 7.9999533\n",
      "55 ---------- -7.43866e-05 \t -63.0 \t 7.999963\n",
      "56 ---------- -5.9127808e-05 \t -63.0 \t 7.9999704\n",
      "57 ---------- -4.7683716e-05 \t -63.0 \t 7.999976\n",
      "58 ---------- -3.8146973e-05 \t -63.0 \t 7.999981\n",
      "59 ---------- -3.0517578e-05 \t -63.0 \t 7.9999847\n",
      "60 ---------- -2.4795532e-05 \t -63.0 \t 7.9999876\n",
      "61 ---------- -2.002716e-05 \t -63.0 \t 7.99999\n",
      "62 ---------- -1.6212463e-05 \t -63.0 \t 7.999992\n",
      "63 ---------- -1.335144e-05 \t -63.0 \t 7.9999933\n",
      "64 ---------- -1.04904175e-05 \t -63.0 \t 7.9999948\n",
      "65 ---------- -8.583069e-06 \t -63.0 \t 7.9999957\n",
      "66 ---------- -6.67572e-06 \t -63.0 \t 7.9999967\n",
      "67 ---------- -5.722046e-06 \t -63.0 \t 7.999997\n",
      "68 ---------- -4.7683716e-06 \t -63.0 \t 7.9999976\n",
      "69 ---------- -3.8146973e-06 \t -63.0 \t 7.999998\n",
      "70 ---------- -2.861023e-06 \t -63.0 \t 7.9999986\n",
      "71 ---------- -1.9073486e-06 \t -63.0 \t 7.999999\n",
      "72 ---------- -1.9073486e-06 \t -63.0 \t 7.999999\n",
      "73 ---------- -1.9073486e-06 \t -63.0 \t 7.999999\n",
      "74 ---------- -1.9073486e-06 \t -63.0 \t 7.999999\n",
      "75 ---------- -1.9073486e-06 \t -63.0 \t 7.999999\n",
      "76 ---------- -1.9073486e-06 \t -63.0 \t 7.999999\n",
      "77 ---------- -1.9073486e-06 \t -63.0 \t 7.999999\n",
      "78 ---------- -1.9073486e-06 \t -63.0 \t 7.999999\n",
      "79 ---------- -1.9073486e-06 \t -63.0 \t 7.999999\n",
      "80 ---------- -1.9073486e-06 \t -63.0 \t 7.999999\n",
      "81 ---------- -1.9073486e-06 \t -63.0 \t 7.999999\n",
      "82 ---------- -1.9073486e-06 \t -63.0 \t 7.999999\n",
      "83 ---------- -1.9073486e-06 \t -63.0 \t 7.999999\n",
      "84 ---------- -1.9073486e-06 \t -63.0 \t 7.999999\n",
      "85 ---------- -1.9073486e-06 \t -63.0 \t 7.999999\n",
      "86 ---------- -1.9073486e-06 \t -63.0 \t 7.999999\n",
      "87 ---------- -1.9073486e-06 \t -63.0 \t 7.999999\n",
      "88 ---------- -1.9073486e-06 \t -63.0 \t 7.999999\n",
      "89 ---------- -1.9073486e-06 \t -63.0 \t 7.999999\n",
      "90 ---------- -1.9073486e-06 \t -63.0 \t 7.999999\n",
      "91 ---------- -1.9073486e-06 \t -63.0 \t 7.999999\n",
      "92 ---------- -1.9073486e-06 \t -63.0 \t 7.999999\n",
      "93 ---------- -1.9073486e-06 \t -63.0 \t 7.999999\n",
      "94 ---------- -1.9073486e-06 \t -63.0 \t 7.999999\n",
      "95 ---------- -1.9073486e-06 \t -63.0 \t 7.999999\n",
      "96 ---------- -1.9073486e-06 \t -63.0 \t 7.999999\n",
      "97 ---------- -1.9073486e-06 \t -63.0 \t 7.999999\n",
      "98 ---------- -1.9073486e-06 \t -63.0 \t 7.999999\n",
      "99 ---------- -1.9073486e-06 \t -63.0 \t 7.999999\n",
      "y = -63 ; x = 7.99999905\n"
     ]
    }
   ],
   "source": [
    "# 求f(x) = a*x**2 + b*x + c的最小值\n",
    "# 使用optimizer.apply_gradients\n",
    "x = tf.Variable(0.0,name = \"x\",dtype = tf.float32)\n",
    "a = tf.constant(1.0)\n",
    "b = tf.constant(-16.0)\n",
    "c = tf.constant(1.0)\n",
    "\n",
    "optimizer = tf.keras.optimizers.SGD(learning_rate=0.1)\n",
    "for i in range(100):\n",
    "    with tf.GradientTape() as tape:\n",
    "        y = a*tf.pow(x,2) + b*x + c\n",
    "    dy_dx = tape.gradient(y,x)\n",
    "    print(i,\"-\"*10,dy_dx.numpy(),\"\\t\",y.numpy(),\"\\t\",x.numpy())\n",
    "    optimizer.apply_gradients(grads_and_vars=[(dy_dx,x)])\n",
    "    \n",
    "tf.print(\"y =\",y,\"; x =\",x)"
   ]
  },
  {
   "cell_type": "code",
   "execution_count": 14,
   "metadata": {},
   "outputs": [
    {
     "name": "stdout",
     "output_type": "stream",
     "text": [
      "y = -63 ; x = 7.99998856\n"
     ]
    }
   ],
   "source": [
    "# 求f(x) = a*x**2 + b*x + c的最小值\n",
    "# 使用optimizer.minimize\n",
    "# optimizer.minimize相当于先用tape求gradient,再apply_gradient\n",
    "\n",
    "x = tf.Variable(0.0,name = \"x\",dtype = tf.float32)\n",
    "\n",
    "#注意f()无参数\n",
    "def f():   \n",
    "    a = tf.constant(1.0)\n",
    "    b = tf.constant(-16.0)\n",
    "    c = tf.constant(1.0)\n",
    "    y = a*tf.pow(x,2)+b*x+c\n",
    "    return(y)\n",
    "\n",
    "optimizer = tf.keras.optimizers.SGD(learning_rate=0.01)   \n",
    "for _ in range(1000):\n",
    "    optimizer.minimize(f,[x])   \n",
    "    \n",
    "tf.print(\"y =\",f(),\"; x =\",x)"
   ]
  },
  {
   "cell_type": "code",
   "execution_count": 15,
   "metadata": {},
   "outputs": [
    {
     "name": "stdout",
     "output_type": "stream",
     "text": [
      "-63\n",
      "7.99998856\n"
     ]
    }
   ],
   "source": [
    "# 在autograph中完成最小值求解\n",
    "# 使用optimizer.apply_gradients\n",
    "\n",
    "x = tf.Variable(0.0,name = \"x\",dtype = tf.float32)\n",
    "optimizer = tf.keras.optimizers.SGD(learning_rate=0.01)\n",
    "\n",
    "@tf.function\n",
    "def minimizef():\n",
    "    a = tf.constant(1.0)\n",
    "    b = tf.constant(-16.0)\n",
    "    c = tf.constant(1.0)\n",
    "    \n",
    "    for _ in tf.range(1000): #注意autograph时使用tf.range(1000)而不是range(1000)\n",
    "        with tf.GradientTape() as tape:\n",
    "            y = a*tf.pow(x,2) + b*x + c\n",
    "        dy_dx = tape.gradient(y,x)\n",
    "        optimizer.apply_gradients(grads_and_vars=[(dy_dx,x)])\n",
    "        \n",
    "    y = a*tf.pow(x,2) + b*x + c\n",
    "    return y\n",
    "\n",
    "tf.print(minimizef())\n",
    "tf.print(x)"
   ]
  },
  {
   "cell_type": "code",
   "execution_count": 16,
   "metadata": {},
   "outputs": [
    {
     "name": "stdout",
     "output_type": "stream",
     "text": [
      "-63\n",
      "7.99998856\n"
     ]
    }
   ],
   "source": [
    "# 在autograph中完成最小值求解\n",
    "# 使用optimizer.minimize\n",
    "\n",
    "x = tf.Variable(0.0,name = \"x\",dtype = tf.float32)\n",
    "optimizer = tf.keras.optimizers.SGD(learning_rate=0.01)   \n",
    "\n",
    "@tf.function\n",
    "def f():   \n",
    "    a = tf.constant(1.0)\n",
    "    b = tf.constant(-16.0)\n",
    "    c = tf.constant(1.0)\n",
    "    y = a*tf.pow(x,2)+b*x+c\n",
    "    return(y)\n",
    "\n",
    "@tf.function\n",
    "def train(epoch):  \n",
    "    for _ in tf.range(epoch):  \n",
    "        optimizer.minimize(f,[x])\n",
    "    return(f())\n",
    "\n",
    "\n",
    "tf.print(train(1000))\n",
    "tf.print(x)\n"
   ]
  },
  {
   "cell_type": "code",
   "execution_count": null,
   "metadata": {},
   "outputs": [],
   "source": []
  }
 ],
 "metadata": {
  "kernelspec": {
   "display_name": "Python 3",
   "language": "python",
   "name": "python3"
  },
  "language_info": {
   "codemirror_mode": {
    "name": "ipython",
    "version": 3
   },
   "file_extension": ".py",
   "mimetype": "text/x-python",
   "name": "python",
   "nbconvert_exporter": "python",
   "pygments_lexer": "ipython3",
   "version": "3.7.4"
  }
 },
 "nbformat": 4,
 "nbformat_minor": 2
}

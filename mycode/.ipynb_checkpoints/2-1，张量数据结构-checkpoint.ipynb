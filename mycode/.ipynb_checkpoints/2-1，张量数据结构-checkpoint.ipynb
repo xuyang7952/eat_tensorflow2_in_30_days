{
 "cells": [
  {
   "cell_type": "markdown",
   "metadata": {},
   "source": [
    "## 2-1,张量数据结构¶"
   ]
  },
  {
   "cell_type": "markdown",
   "metadata": {},
   "source": [
    "程序 = 数据结构+算法。\n",
    "\n",
    "TensorFlow程序 = 张量数据结构 + 计算图算法语言\n",
    "\n",
    "张量和计算图是 TensorFlow的核心概念。\n",
    "\n",
    "Tensorflow的基本数据结构是张量Tensor。张量即多维数组。Tensorflow的张量和numpy中的array很类似。\n",
    "\n",
    "从行为特性来看，有两种类型的张量，常量constant和变量Variable.\n",
    "\n",
    "常量的值在计算图中不可以被重新赋值，变量可以在计算图中用assign等算子重新赋值。"
   ]
  },
  {
   "cell_type": "markdown",
   "metadata": {},
   "source": [
    "## 一、常量张量"
   ]
  },
  {
   "cell_type": "markdown",
   "metadata": {},
   "source": [
    "张量的数据类型和numpy.array基本一一对应。"
   ]
  },
  {
   "cell_type": "code",
   "execution_count": 2,
   "metadata": {},
   "outputs": [
    {
     "name": "stdout",
     "output_type": "stream",
     "text": [
      "True\n",
      "True\n",
      "True\n",
      "False\n"
     ]
    }
   ],
   "source": [
    "import numpy as np\n",
    "import tensorflow as tf\n",
    "\n",
    "i = tf.constant(1) # tf.int32 类型常量\n",
    "l = tf.constant(1,dtype = tf.int64) # tf.int64 类型常量\n",
    "f = tf.constant(1.23) #tf.float32 类型常量\n",
    "d = tf.constant(3.14,dtype = tf.double) # tf.double 类型常量\n",
    "s = tf.constant(\"hello world\") # tf.string类型常量\n",
    "b = tf.constant(True) #tf.bool类型常量\n",
    "\n",
    "\n",
    "print(tf.int64 == np.int64) \n",
    "print(tf.bool == np.bool)\n",
    "print(tf.double == np.float64)\n",
    "print(tf.string == np.unicode) # tf.string类型和np.unicode类型不等价"
   ]
  },
  {
   "cell_type": "markdown",
   "metadata": {},
   "source": [
    "不同类型的数据可以用不同维度(rank)的张量来表示。\n",
    "\n",
    "标量为0维张量，向量为1维张量，矩阵为2维张量。\n",
    "\n",
    "彩色图像有rgb三个通道，可以表示为3维张量。\n",
    "\n",
    "视频还有时间维，可以表示为4维张量。\n",
    "\n",
    "可以简单地总结为：有几层中括号，就是多少维的张量。"
   ]
  },
  {
   "cell_type": "code",
   "execution_count": 3,
   "metadata": {},
   "outputs": [
    {
     "name": "stdout",
     "output_type": "stream",
     "text": [
      "tf.Tensor(0, shape=(), dtype=int32)\n",
      "0\n"
     ]
    }
   ],
   "source": [
    "scalar = tf.constant(True)  #标量，0维张量\n",
    "\n",
    "print(tf.rank(scalar))\n",
    "print(scalar.numpy().ndim)  # tf.rank的作用和numpy的ndim方法相同"
   ]
  },
  {
   "cell_type": "code",
   "execution_count": 4,
   "metadata": {},
   "outputs": [
    {
     "name": "stdout",
     "output_type": "stream",
     "text": [
      "tf.Tensor(1, shape=(), dtype=int32)\n",
      "1\n"
     ]
    }
   ],
   "source": [
    "vector = tf.constant([1.0,2.0,3.0,4.0]) #向量，1维张量\n",
    "\n",
    "print(tf.rank(vector))\n",
    "print(np.ndim(vector.numpy()))"
   ]
  },
  {
   "cell_type": "code",
   "execution_count": 6,
   "metadata": {},
   "outputs": [
    {
     "name": "stdout",
     "output_type": "stream",
     "text": [
      "tf.Tensor(2, shape=(), dtype=int32)\n",
      "2\n",
      "2\n"
     ]
    }
   ],
   "source": [
    "matrix = tf.constant([[1.0,2.0],[3.0,4.0]]) #矩阵, 2维张量\n",
    "print(tf.rank(matrix))\n",
    "print(tf.rank(matrix).numpy())# 取值\n",
    "print(np.ndim(matrix))"
   ]
  },
  {
   "cell_type": "code",
   "execution_count": 9,
   "metadata": {},
   "outputs": [
    {
     "name": "stdout",
     "output_type": "stream",
     "text": [
      "tf.Tensor(\n",
      "[[[1. 2.]\n",
      "  [3. 4.]]\n",
      "\n",
      " [[5. 6.]\n",
      "  [7. 8.]]], shape=(2, 2, 2), dtype=float32)\n",
      "tf.Tensor(3, shape=(), dtype=int32)\n",
      "3\n",
      "3\n"
     ]
    }
   ],
   "source": [
    "tensor3 = tf.constant([[[1.0,2.0],[3.0,4.0]],[[5.0,6.0],[7.0,8.0]]])  # 3维张量\n",
    "print(tensor3)\n",
    "print(tf.rank(tensor3))\n",
    "print(tf.rank(tensor3).numpy())\n",
    "print(np.ndim(tensor3))"
   ]
  },
  {
   "cell_type": "code",
   "execution_count": 11,
   "metadata": {},
   "outputs": [
    {
     "name": "stdout",
     "output_type": "stream",
     "text": [
      "tf.Tensor(\n",
      "[[[[1. 1.]\n",
      "   [2. 2.]]\n",
      "\n",
      "  [[3. 3.]\n",
      "   [4. 4.]]]\n",
      "\n",
      "\n",
      " [[[5. 5.]\n",
      "   [6. 6.]]\n",
      "\n",
      "  [[7. 7.]\n",
      "   [8. 8.]]]], shape=(2, 2, 2, 2), dtype=float32)\n",
      "tf.Tensor(4, shape=(), dtype=int32)\n",
      "4\n",
      "4\n"
     ]
    }
   ],
   "source": [
    "tensor4 = tf.constant([[[[1.0,1.0],[2.0,2.0]],[[3.0,3.0],[4.0,4.0]]],\n",
    "                        [[[5.0,5.0],[6.0,6.0]],[[7.0,7.0],[8.0,8.0]]]])  # 4维张量\n",
    "print(tensor4)\n",
    "print(tf.rank(tensor4))\n",
    "print(tf.rank(tensor4).numpy())\n",
    "print(np.ndim(tensor4))"
   ]
  },
  {
   "cell_type": "markdown",
   "metadata": {},
   "source": [
    "可以用tf.cast改变张量的数据类型。\n",
    "\n",
    "可以用numpy方法将tensorflow中的张量转化成numpy中的张量。\n",
    "\n",
    "可以用shape方法查看张量的尺寸。"
   ]
  },
  {
   "cell_type": "code",
   "execution_count": 12,
   "metadata": {},
   "outputs": [
    {
     "name": "stdout",
     "output_type": "stream",
     "text": [
      "<dtype: 'int16'> <dtype: 'float16'>\n"
     ]
    }
   ],
   "source": [
    "h = tf.constant([123,456],dtype=tf.int16)\n",
    "f = tf.cast(h,tf.float16)\n",
    "print(h.dtype,f.dtype)"
   ]
  },
  {
   "cell_type": "code",
   "execution_count": 16,
   "metadata": {},
   "outputs": [
    {
     "name": "stdout",
     "output_type": "stream",
     "text": [
      "tf.Tensor(\n",
      "[[1 2]\n",
      " [3 4]], shape=(2, 2), dtype=int32)\n",
      "tf.Tensor([2 2], shape=(2,), dtype=int32)\n",
      "[[1 2]\n",
      " [3 4]]\n",
      "(2, 2)\n"
     ]
    }
   ],
   "source": [
    "y = tf.constant([[1,2],[3,4]])\n",
    "print(y)\n",
    "print(tf.shape(y))\n",
    "print(y.numpy())\n",
    "print(y.shape)\n"
   ]
  },
  {
   "cell_type": "code",
   "execution_count": 17,
   "metadata": {},
   "outputs": [
    {
     "name": "stdout",
     "output_type": "stream",
     "text": [
      "b'\\xe4\\xbd\\xa0\\xe5\\xa5\\xbd \\xe4\\xb8\\x96\\xe7\\x95\\x8c'\n",
      "你好 世界\n"
     ]
    }
   ],
   "source": [
    "u = tf.constant(u\"你好 世界\")\n",
    "print(u.numpy())  \n",
    "print(u.numpy().decode(\"utf-8\"))"
   ]
  },
  {
   "cell_type": "code",
   "execution_count": null,
   "metadata": {},
   "outputs": [],
   "source": []
  },
  {
   "cell_type": "markdown",
   "metadata": {},
   "source": [
    "## 二、变量张量"
   ]
  },
  {
   "cell_type": "markdown",
   "metadata": {},
   "source": [
    "模型中需要被训练的参数一般被设置成变量。"
   ]
  },
  {
   "cell_type": "code",
   "execution_count": 20,
   "metadata": {},
   "outputs": [
    {
     "name": "stdout",
     "output_type": "stream",
     "text": [
      "tf.Tensor([1 2], shape=(2,), dtype=int32) 139638784407312\n",
      "tf.Tensor([2 4], shape=(2,), dtype=int32) 139638784409232\n",
      "tf.Tensor([3 5], shape=(2,), dtype=int32) 139638784409424\n"
     ]
    }
   ],
   "source": [
    "# 常量值不可以改变，常量的重新赋值相当于创造新的内存空间\n",
    "c = tf.constant([1,2])\n",
    "print(c,id(c))\n",
    "c = c *2\n",
    "print(c,id(c))\n",
    "c = c + tf.constant([1,1])\n",
    "print(c,id(c))"
   ]
  },
  {
   "cell_type": "code",
   "execution_count": 23,
   "metadata": {},
   "outputs": [
    {
     "name": "stdout",
     "output_type": "stream",
     "text": [
      "<tf.Variable 'v:0' shape=(2,) dtype=int32, numpy=array([1, 2], dtype=int32)> 139638397129936\n",
      "<tf.Variable 'v:0' shape=(2,) dtype=int32, numpy=array([2, 4], dtype=int32)> 139638397129936\n"
     ]
    }
   ],
   "source": [
    "# 变量的值可以改变，可以通过assign, assign_add等方法给变量重新赋值\n",
    "v1 = tf.Variable([1,2],name = \"v\")\n",
    "print(v1,id(v1))\n",
    "v1.assign_add([1,2])\n",
    "print(v1,id(v1))\n"
   ]
  },
  {
   "cell_type": "code",
   "execution_count": null,
   "metadata": {},
   "outputs": [],
   "source": []
  }
 ],
 "metadata": {
  "kernelspec": {
   "display_name": "Python 3",
   "language": "python",
   "name": "python3"
  },
  "language_info": {
   "codemirror_mode": {
    "name": "ipython",
    "version": 3
   },
   "file_extension": ".py",
   "mimetype": "text/x-python",
   "name": "python",
   "nbconvert_exporter": "python",
   "pygments_lexer": "ipython3",
   "version": "3.7.4"
  }
 },
 "nbformat": 4,
 "nbformat_minor": 2
}
